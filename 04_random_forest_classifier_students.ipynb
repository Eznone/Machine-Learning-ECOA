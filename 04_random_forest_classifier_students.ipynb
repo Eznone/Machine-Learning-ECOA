{
 "cells": [
  {
   "cell_type": "markdown",
   "id": "7c58fd75",
   "metadata": {},
   "source": [
    "# Classification with Random Forest"
   ]
  },
  {
   "cell_type": "markdown",
   "id": "afba2dd3",
   "metadata": {},
   "source": [
    "### Pima Indians Diabetes Database\n",
    "\n",
    "This dataset is originally from the National Institute of Diabetes and Digestive and Kidney Diseases. The objective of the dataset is to diagnostically predict whether or not a patient has diabetes, based on certain diagnostic measurements included in the dataset. Several constraints were placed on the selection of these instances from a larger database. In particular, all patients here are females at least 21 years old of Pima Indian heritage."
   ]
  },
  {
   "cell_type": "code",
   "execution_count": 1,
   "id": "a256e65b",
   "metadata": {},
   "outputs": [
    {
     "data": {
      "text/html": [
       "<div>\n",
       "<style scoped>\n",
       "    .dataframe tbody tr th:only-of-type {\n",
       "        vertical-align: middle;\n",
       "    }\n",
       "\n",
       "    .dataframe tbody tr th {\n",
       "        vertical-align: top;\n",
       "    }\n",
       "\n",
       "    .dataframe thead th {\n",
       "        text-align: right;\n",
       "    }\n",
       "</style>\n",
       "<table border=\"1\" class=\"dataframe\">\n",
       "  <thead>\n",
       "    <tr style=\"text-align: right;\">\n",
       "      <th></th>\n",
       "      <th>Pregnancies</th>\n",
       "      <th>Glucose</th>\n",
       "      <th>BloodPressure</th>\n",
       "      <th>SkinThickness</th>\n",
       "      <th>Insulin</th>\n",
       "      <th>BMI</th>\n",
       "      <th>DiabetesPedigreeFunction</th>\n",
       "      <th>Age</th>\n",
       "      <th>Outcome</th>\n",
       "    </tr>\n",
       "  </thead>\n",
       "  <tbody>\n",
       "    <tr>\n",
       "      <th>0</th>\n",
       "      <td>6</td>\n",
       "      <td>148</td>\n",
       "      <td>72</td>\n",
       "      <td>35</td>\n",
       "      <td>0</td>\n",
       "      <td>33.6</td>\n",
       "      <td>0.627</td>\n",
       "      <td>50</td>\n",
       "      <td>1</td>\n",
       "    </tr>\n",
       "    <tr>\n",
       "      <th>1</th>\n",
       "      <td>1</td>\n",
       "      <td>85</td>\n",
       "      <td>66</td>\n",
       "      <td>29</td>\n",
       "      <td>0</td>\n",
       "      <td>26.6</td>\n",
       "      <td>0.351</td>\n",
       "      <td>31</td>\n",
       "      <td>0</td>\n",
       "    </tr>\n",
       "    <tr>\n",
       "      <th>2</th>\n",
       "      <td>8</td>\n",
       "      <td>183</td>\n",
       "      <td>64</td>\n",
       "      <td>0</td>\n",
       "      <td>0</td>\n",
       "      <td>23.3</td>\n",
       "      <td>0.672</td>\n",
       "      <td>32</td>\n",
       "      <td>1</td>\n",
       "    </tr>\n",
       "    <tr>\n",
       "      <th>3</th>\n",
       "      <td>1</td>\n",
       "      <td>89</td>\n",
       "      <td>66</td>\n",
       "      <td>23</td>\n",
       "      <td>94</td>\n",
       "      <td>28.1</td>\n",
       "      <td>0.167</td>\n",
       "      <td>21</td>\n",
       "      <td>0</td>\n",
       "    </tr>\n",
       "    <tr>\n",
       "      <th>4</th>\n",
       "      <td>0</td>\n",
       "      <td>137</td>\n",
       "      <td>40</td>\n",
       "      <td>35</td>\n",
       "      <td>168</td>\n",
       "      <td>43.1</td>\n",
       "      <td>2.288</td>\n",
       "      <td>33</td>\n",
       "      <td>1</td>\n",
       "    </tr>\n",
       "  </tbody>\n",
       "</table>\n",
       "</div>"
      ],
      "text/plain": [
       "   Pregnancies  Glucose  BloodPressure  SkinThickness  Insulin   BMI  \\\n",
       "0            6      148             72             35        0  33.6   \n",
       "1            1       85             66             29        0  26.6   \n",
       "2            8      183             64              0        0  23.3   \n",
       "3            1       89             66             23       94  28.1   \n",
       "4            0      137             40             35      168  43.1   \n",
       "\n",
       "   DiabetesPedigreeFunction  Age  Outcome  \n",
       "0                     0.627   50        1  \n",
       "1                     0.351   31        0  \n",
       "2                     0.672   32        1  \n",
       "3                     0.167   21        0  \n",
       "4                     2.288   33        1  "
      ]
     },
     "execution_count": 1,
     "metadata": {},
     "output_type": "execute_result"
    }
   ],
   "source": [
    "import pandas as pd\n",
    "\n",
    "# import diabetes dataset\n",
    "df_diabetes = pd.read_csv(\"diabetes.csv\")\n",
    "\n",
    "# view first lines of the dataset\n",
    "df_diabetes.head()"
   ]
  },
  {
   "cell_type": "markdown",
   "id": "23b81955",
   "metadata": {},
   "source": [
    "---\n",
    "\n",
    "#### Activity 1.        \n",
    "\n",
    "* Split the data into training and test sets. To build the train and test sets, you can use the function `train_test_split` from the module `model_selection` of `scikit-learn`. Make sure that the test set corresponds to 1/10th of your data. For reproducibility, set `random_state` to some fixed value.\n",
    "\n",
    "\n",
    "**Note:** Keep in mind that the test data should not be used for any design or validation decisions.\n",
    "\n",
    "---"
   ]
  },
  {
   "cell_type": "code",
   "execution_count": null,
   "id": "5590f9af",
   "metadata": {},
   "outputs": [],
   "source": []
  },
  {
   "cell_type": "markdown",
   "id": "7d2d7f04",
   "metadata": {},
   "source": [
    "---\n",
    "\n",
    "#### Activity 2.  \n",
    "\n",
    "* Fit the random forest classifier to the training set from Activity 1. The algorithm can be imported from the `sklearn.ensemble` library under the name `RandomForestClassifier`. Set the parameter `n_estimators=3` (i.e., `RandomForestClassifier(n_estimators=3)`) in order to learn 3 trees in the forest."
   ]
  },
  {
   "cell_type": "code",
   "execution_count": null,
   "id": "bacb511a",
   "metadata": {},
   "outputs": [],
   "source": []
  },
  {
   "cell_type": "markdown",
   "id": "7cc7b6da",
   "metadata": {},
   "source": [
    "#### Activity 3.  \n",
    "\n",
    "* Print the training accuracy\n",
    "* Print the test set accuracy\n",
    "* Print the confusion matrix of the test set\n",
    "* Print the test set precision\n",
    "* Print the test set recall\n",
    "* Print the test set f1 score\n",
    "\n",
    "These algorithms to compute these metrics can be imported from the `sklearn.metrics`."
   ]
  },
  {
   "cell_type": "code",
   "execution_count": null,
   "id": "f2f8752b",
   "metadata": {},
   "outputs": [],
   "source": []
  },
  {
   "cell_type": "markdown",
   "id": "c2504c2f",
   "metadata": {},
   "source": [
    "### Activity 4.\n",
    "\n",
    "Visualize a text representation of the 3 trees. You can get each tree in the list `estimators_` of the `RandomForestClassifier` object. Recall that the decision tree can be visualized from the `sklearn.tree` library with the `export_text` method."
   ]
  },
  {
   "cell_type": "code",
   "execution_count": null,
   "id": "1fced27f",
   "metadata": {
    "scrolled": true
   },
   "outputs": [],
   "source": []
  },
  {
   "cell_type": "markdown",
   "id": "34b434b7",
   "metadata": {},
   "source": [
    "### Activity 5.\n",
    "\n",
    "Plot the 3 trees with matplotlib. Recall that the decision tree can be visualized from the `sklearn.tree` library with the `plot_tree` method."
   ]
  },
  {
   "cell_type": "code",
   "execution_count": null,
   "id": "885fc8d1",
   "metadata": {
    "scrolled": true
   },
   "outputs": [],
   "source": []
  },
  {
   "cell_type": "markdown",
   "id": "ba28bfed",
   "metadata": {},
   "source": [
    "## Improving the performance of a Random Forest\n",
    "\n",
    "#### Activity 6.  \n",
    "\n",
    "* Fit the random forest classifier to the training set from Activity 1, but now limit the maximum depth of the learned trees. Instantiate the `RandomForestClassifier` class and pass the parameters `max_depth=3` ( and continue using `n_estimators=3`)."
   ]
  },
  {
   "cell_type": "code",
   "execution_count": null,
   "id": "f84875df",
   "metadata": {},
   "outputs": [],
   "source": []
  },
  {
   "cell_type": "markdown",
   "id": "0fc99e65",
   "metadata": {},
   "source": [
    "#### Activity 7.  \n",
    "\n",
    "* Print the training accuracy\n",
    "* Print the test set accuracy\n",
    "* Print the confusion matrix of the test set\n",
    "* Print the test set precision\n",
    "* Print the test set recall\n",
    "* Print the test set f1 score\n"
   ]
  },
  {
   "cell_type": "code",
   "execution_count": null,
   "id": "ab487186",
   "metadata": {},
   "outputs": [],
   "source": []
  },
  {
   "cell_type": "markdown",
   "id": "bb9ee022",
   "metadata": {},
   "source": [
    "### Activity 8.\n",
    "\n",
    "Plot the 3 trees with matplotlib. The decision tree can be visualized from the `sklearn.tree` library with the `plot_tree` method."
   ]
  },
  {
   "cell_type": "code",
   "execution_count": null,
   "id": "cc8e9f33",
   "metadata": {},
   "outputs": [],
   "source": []
  },
  {
   "cell_type": "markdown",
   "id": "e49b0ea9",
   "metadata": {},
   "source": [
    "### Activity 9.\n",
    "\n",
    "Test different values of `n_estimators` (i.e., number of trees in the forest) and `max_depth` in order to find the best accuracy values."
   ]
  },
  {
   "cell_type": "code",
   "execution_count": null,
   "id": "d3d67e3c",
   "metadata": {
    "scrolled": false
   },
   "outputs": [],
   "source": []
  }
 ],
 "metadata": {
  "kernelspec": {
   "display_name": ".venv",
   "language": "python",
   "name": "python3"
  },
  "language_info": {
   "codemirror_mode": {
    "name": "ipython",
    "version": 3
   },
   "file_extension": ".py",
   "mimetype": "text/x-python",
   "name": "python",
   "nbconvert_exporter": "python",
   "pygments_lexer": "ipython3",
   "version": "3.12.7"
  }
 },
 "nbformat": 4,
 "nbformat_minor": 5
}
